{
  "nbformat": 4,
  "nbformat_minor": 0,
  "metadata": {
    "colab": {
      "name": "imdbJourney.ipynb",
      "version": "0.3.2",
      "provenance": [],
      "include_colab_link": true
    },
    "kernelspec": {
      "name": "python3",
      "display_name": "Python 3"
    }
  },
  "cells": [
    {
      "cell_type": "markdown",
      "metadata": {
        "id": "view-in-github",
        "colab_type": "text"
      },
      "source": [
        "<a href=\"https://colab.research.google.com/github/Sagar2366/wayToML/blob/master/imdbJourney.ipynb\" target=\"_parent\"><img src=\"https://colab.research.google.com/assets/colab-badge.svg\" alt=\"Open In Colab\"/></a>"
      ]
    },
    {
      "metadata": {
        "id": "uzjNTEHiEwLd",
        "colab_type": "code",
        "colab": {}
      },
      "cell_type": "code",
      "source": [
        "from __future__ import absolute_import, division, print_function, unicode_literals\n",
        "\n",
        "import tensorflow as tf\n",
        "from tensorflow import keras\n",
        "\n",
        "import numpy as np"
      ],
      "execution_count": 0,
      "outputs": []
    },
    {
      "metadata": {
        "id": "A9PPs0xeFbQ1",
        "colab_type": "code",
        "colab": {}
      },
      "cell_type": "code",
      "source": [
        "imdb = keras.datasets.imdb\n",
        "\n",
        "(train_data, train_labels), (test_data, test_labels) = imdb.load_data(num_words=10000)"
      ],
      "execution_count": 0,
      "outputs": []
    },
    {
      "metadata": {
        "id": "MSN8Pmr7MPzM",
        "colab_type": "code",
        "colab": {}
      },
      "cell_type": "code",
      "source": [
        "word_index = imdb.get_word_index()\n",
        "\n",
        "word_index = {k:(v+3) for k,v in word_index.items()}\n",
        "word_index[\"<PAD>\"] = 0\n",
        "word_index[\"<START>\"] = 1\n",
        "word_index[\"<UNK>\"] = 2  \n",
        "word_index[\"<UNUSED>\"] = 3\n",
        "\n",
        "reverse_word_index = dict([(value, key) for (key, value) in word_index.items()])\n",
        "\n",
        "def decode_review(text):\n",
        "    return ' '.join([reverse_word_index.get(i, '?') for i in text])"
      ],
      "execution_count": 0,
      "outputs": []
    },
    {
      "metadata": {
        "id": "0BWBZN7HND6k",
        "colab_type": "code",
        "colab": {
          "base_uri": "https://localhost:8080/",
          "height": 54
        },
        "outputId": "d19ffc54-5966-4062-d38e-35eb129ef296"
      },
      "cell_type": "code",
      "source": [
        "decode_review(train_data[0])"
      ],
      "execution_count": 6,
      "outputs": [
        {
          "output_type": "execute_result",
          "data": {
            "text/plain": [
              "\"<START> this film was just brilliant casting location scenery story direction everyone's really suited the part they played and you could just imagine being there robert <UNK> is an amazing actor and now the same being director <UNK> father came from the same scottish island as myself so i loved the fact there was a real connection with this film the witty remarks throughout the film were great it was just brilliant so much that i bought the film as soon as it was released for <UNK> and would recommend it to everyone to watch and the fly fishing was amazing really cried at the end it was so sad and you know what they say if you cry at a film it must have been good and this definitely was also <UNK> to the two little boy's that played the <UNK> of norman and paul they were just brilliant children are often left out of the <UNK> list i think because the stars that play them all grown up are such a big profile for the whole film but these children are amazing and should be praised for what they have done don't you think the whole story was so lovely because it was true and was someone's life after all that was shared with us all\""
            ]
          },
          "metadata": {
            "tags": []
          },
          "execution_count": 6
        }
      ]
    },
    {
      "metadata": {
        "id": "wjevQ7xLNFw3",
        "colab_type": "code",
        "colab": {}
      },
      "cell_type": "code",
      "source": [
        "train_data = keras.preprocessing.sequence.pad_sequences(train_data,\n",
        "                                                        value=word_index[\"<PAD>\"],\n",
        "                                                        padding='post',\n",
        "                                                        maxlen=256)\n",
        "\n",
        "test_data = keras.preprocessing.sequence.pad_sequences(test_data,\n",
        "                                                       value=word_index[\"<PAD>\"],\n",
        "                                                       padding='post',\n",
        "                                                       maxlen=256)"
      ],
      "execution_count": 0,
      "outputs": []
    },
    {
      "metadata": {
        "id": "bTzIVBS0NTct",
        "colab_type": "code",
        "colab": {
          "base_uri": "https://localhost:8080/",
          "height": 350
        },
        "outputId": "cddf1fc6-9280-4134-9044-bcfe18519402"
      },
      "cell_type": "code",
      "source": [
        "vocab_size = 10000\n",
        "\n",
        "model = keras.Sequential()\n",
        "model.add(keras.layers.Embedding(vocab_size, 16))\n",
        "model.add(keras.layers.GlobalAveragePooling1D())\n",
        "model.add(keras.layers.Dense(16, activation=tf.nn.relu))\n",
        "model.add(keras.layers.Dense(1, activation=tf.nn.sigmoid))\n",
        "\n",
        "model.summary()"
      ],
      "execution_count": 8,
      "outputs": [
        {
          "output_type": "stream",
          "text": [
            "WARNING:tensorflow:From /usr/local/lib/python3.6/dist-packages/tensorflow/python/ops/resource_variable_ops.py:435: colocate_with (from tensorflow.python.framework.ops) is deprecated and will be removed in a future version.\n",
            "Instructions for updating:\n",
            "Colocations handled automatically by placer.\n",
            "_________________________________________________________________\n",
            "Layer (type)                 Output Shape              Param #   \n",
            "=================================================================\n",
            "embedding (Embedding)        (None, None, 16)          160000    \n",
            "_________________________________________________________________\n",
            "global_average_pooling1d (Gl (None, 16)                0         \n",
            "_________________________________________________________________\n",
            "dense (Dense)                (None, 16)                272       \n",
            "_________________________________________________________________\n",
            "dense_1 (Dense)              (None, 1)                 17        \n",
            "=================================================================\n",
            "Total params: 160,289\n",
            "Trainable params: 160,289\n",
            "Non-trainable params: 0\n",
            "_________________________________________________________________\n"
          ],
          "name": "stdout"
        }
      ]
    },
    {
      "metadata": {
        "id": "L5IGUcJON8ZJ",
        "colab_type": "code",
        "colab": {}
      },
      "cell_type": "code",
      "source": [
        "model.compile(optimizer='adam',\n",
        "              loss='binary_crossentropy',\n",
        "              metrics=['acc'])"
      ],
      "execution_count": 0,
      "outputs": []
    },
    {
      "metadata": {
        "id": "pw5Wf7UqOULO",
        "colab_type": "code",
        "colab": {}
      },
      "cell_type": "code",
      "source": [
        "x_val = train_data[:10000]\n",
        "partial_x_train = train_data[10000:]\n",
        "\n",
        "y_val = train_labels[:10000]\n",
        "partial_y_train = train_labels[10000:]"
      ],
      "execution_count": 0,
      "outputs": []
    },
    {
      "metadata": {
        "id": "42kjtLCCOiY2",
        "colab_type": "code",
        "colab": {
          "base_uri": "https://localhost:8080/",
          "height": 3508
        },
        "outputId": "d8c14674-8956-4cd3-c0ad-d9acb9f79dc9"
      },
      "cell_type": "code",
      "source": [
        "history = model.fit(partial_x_train,\n",
        "                    partial_y_train,\n",
        "                    epochs=100,\n",
        "                    batch_size=512,\n",
        "                    validation_data=(x_val, y_val),\n",
        "                    verbose=1)"
      ],
      "execution_count": 12,
      "outputs": [
        {
          "output_type": "stream",
          "text": [
            "Train on 15000 samples, validate on 10000 samples\n",
            "Epoch 1/100\n",
            "15000/15000 [==============================] - 1s 53us/sample - loss: 0.0905 - acc: 0.9773 - val_loss: 0.3138 - val_acc: 0.8821\n",
            "Epoch 2/100\n",
            "15000/15000 [==============================] - 1s 58us/sample - loss: 0.0866 - acc: 0.9779 - val_loss: 0.3180 - val_acc: 0.8814\n",
            "Epoch 3/100\n",
            "15000/15000 [==============================] - 1s 54us/sample - loss: 0.0834 - acc: 0.9788 - val_loss: 0.3208 - val_acc: 0.8825\n",
            "Epoch 4/100\n",
            "15000/15000 [==============================] - 1s 51us/sample - loss: 0.0803 - acc: 0.9809 - val_loss: 0.3253 - val_acc: 0.8802\n",
            "Epoch 5/100\n",
            "15000/15000 [==============================] - 1s 51us/sample - loss: 0.0773 - acc: 0.9816 - val_loss: 0.3285 - val_acc: 0.8814\n",
            "Epoch 6/100\n",
            "15000/15000 [==============================] - 1s 50us/sample - loss: 0.0740 - acc: 0.9826 - val_loss: 0.3345 - val_acc: 0.8775\n",
            "Epoch 7/100\n",
            "15000/15000 [==============================] - 1s 51us/sample - loss: 0.0715 - acc: 0.9835 - val_loss: 0.3371 - val_acc: 0.8786\n",
            "Epoch 8/100\n",
            "15000/15000 [==============================] - 1s 52us/sample - loss: 0.0684 - acc: 0.9844 - val_loss: 0.3407 - val_acc: 0.8802\n",
            "Epoch 9/100\n",
            "15000/15000 [==============================] - 1s 57us/sample - loss: 0.0659 - acc: 0.9857 - val_loss: 0.3462 - val_acc: 0.8784\n",
            "Epoch 10/100\n",
            "15000/15000 [==============================] - 1s 55us/sample - loss: 0.0631 - acc: 0.9865 - val_loss: 0.3497 - val_acc: 0.8790\n",
            "Epoch 11/100\n",
            "15000/15000 [==============================] - 1s 56us/sample - loss: 0.0607 - acc: 0.9871 - val_loss: 0.3548 - val_acc: 0.8783\n",
            "Epoch 12/100\n",
            "15000/15000 [==============================] - 1s 55us/sample - loss: 0.0585 - acc: 0.9880 - val_loss: 0.3625 - val_acc: 0.8741\n",
            "Epoch 13/100\n",
            "15000/15000 [==============================] - 1s 57us/sample - loss: 0.0566 - acc: 0.9885 - val_loss: 0.3648 - val_acc: 0.8759\n",
            "Epoch 14/100\n",
            "15000/15000 [==============================] - 1s 57us/sample - loss: 0.0538 - acc: 0.9891 - val_loss: 0.3693 - val_acc: 0.8775\n",
            "Epoch 15/100\n",
            "15000/15000 [==============================] - 1s 57us/sample - loss: 0.0518 - acc: 0.9901 - val_loss: 0.3737 - val_acc: 0.8780\n",
            "Epoch 16/100\n",
            "15000/15000 [==============================] - 1s 58us/sample - loss: 0.0497 - acc: 0.9909 - val_loss: 0.3809 - val_acc: 0.8735\n",
            "Epoch 17/100\n",
            "15000/15000 [==============================] - 1s 58us/sample - loss: 0.0475 - acc: 0.9913 - val_loss: 0.3841 - val_acc: 0.8765\n",
            "Epoch 18/100\n",
            "15000/15000 [==============================] - 1s 56us/sample - loss: 0.0462 - acc: 0.9922 - val_loss: 0.3913 - val_acc: 0.8731\n",
            "Epoch 19/100\n",
            "15000/15000 [==============================] - 1s 56us/sample - loss: 0.0440 - acc: 0.9925 - val_loss: 0.3946 - val_acc: 0.8758\n",
            "Epoch 20/100\n",
            "15000/15000 [==============================] - 1s 57us/sample - loss: 0.0422 - acc: 0.9932 - val_loss: 0.3998 - val_acc: 0.8741\n",
            "Epoch 21/100\n",
            "15000/15000 [==============================] - 1s 53us/sample - loss: 0.0405 - acc: 0.9933 - val_loss: 0.4050 - val_acc: 0.8742\n",
            "Epoch 22/100\n",
            "15000/15000 [==============================] - 1s 53us/sample - loss: 0.0388 - acc: 0.9938 - val_loss: 0.4101 - val_acc: 0.8740\n",
            "Epoch 23/100\n",
            "15000/15000 [==============================] - 1s 51us/sample - loss: 0.0373 - acc: 0.9943 - val_loss: 0.4163 - val_acc: 0.8732\n",
            "Epoch 24/100\n",
            "15000/15000 [==============================] - 1s 52us/sample - loss: 0.0358 - acc: 0.9949 - val_loss: 0.4213 - val_acc: 0.8731\n",
            "Epoch 25/100\n",
            "15000/15000 [==============================] - 1s 53us/sample - loss: 0.0345 - acc: 0.9947 - val_loss: 0.4300 - val_acc: 0.8725\n",
            "Epoch 26/100\n",
            "15000/15000 [==============================] - 1s 52us/sample - loss: 0.0335 - acc: 0.9951 - val_loss: 0.4329 - val_acc: 0.8722\n",
            "Epoch 27/100\n",
            "15000/15000 [==============================] - 1s 52us/sample - loss: 0.0317 - acc: 0.9959 - val_loss: 0.4377 - val_acc: 0.8722\n",
            "Epoch 28/100\n",
            "15000/15000 [==============================] - 1s 52us/sample - loss: 0.0304 - acc: 0.9959 - val_loss: 0.4438 - val_acc: 0.8714\n",
            "Epoch 29/100\n",
            "15000/15000 [==============================] - 1s 51us/sample - loss: 0.0296 - acc: 0.9962 - val_loss: 0.4500 - val_acc: 0.8705\n",
            "Epoch 30/100\n",
            "15000/15000 [==============================] - 1s 52us/sample - loss: 0.0287 - acc: 0.9962 - val_loss: 0.4566 - val_acc: 0.8701\n",
            "Epoch 31/100\n",
            "15000/15000 [==============================] - 1s 54us/sample - loss: 0.0272 - acc: 0.9969 - val_loss: 0.4616 - val_acc: 0.8691\n",
            "Epoch 32/100\n",
            "15000/15000 [==============================] - 1s 53us/sample - loss: 0.0261 - acc: 0.9967 - val_loss: 0.4661 - val_acc: 0.8690\n",
            "Epoch 33/100\n",
            "15000/15000 [==============================] - 1s 51us/sample - loss: 0.0251 - acc: 0.9971 - val_loss: 0.4727 - val_acc: 0.8694\n",
            "Epoch 34/100\n",
            "15000/15000 [==============================] - 1s 50us/sample - loss: 0.0241 - acc: 0.9973 - val_loss: 0.4767 - val_acc: 0.8689\n",
            "Epoch 35/100\n",
            "15000/15000 [==============================] - 1s 51us/sample - loss: 0.0230 - acc: 0.9977 - val_loss: 0.4818 - val_acc: 0.8682\n",
            "Epoch 36/100\n",
            "15000/15000 [==============================] - 1s 51us/sample - loss: 0.0222 - acc: 0.9976 - val_loss: 0.4887 - val_acc: 0.8684\n",
            "Epoch 37/100\n",
            "15000/15000 [==============================] - 1s 51us/sample - loss: 0.0212 - acc: 0.9979 - val_loss: 0.4945 - val_acc: 0.8667\n",
            "Epoch 38/100\n",
            "15000/15000 [==============================] - 1s 50us/sample - loss: 0.0205 - acc: 0.9978 - val_loss: 0.4990 - val_acc: 0.8674\n",
            "Epoch 39/100\n",
            "15000/15000 [==============================] - 1s 52us/sample - loss: 0.0198 - acc: 0.9982 - val_loss: 0.5043 - val_acc: 0.8676\n",
            "Epoch 40/100\n",
            "15000/15000 [==============================] - 1s 52us/sample - loss: 0.0190 - acc: 0.9985 - val_loss: 0.5091 - val_acc: 0.8667\n",
            "Epoch 41/100\n",
            "15000/15000 [==============================] - 1s 51us/sample - loss: 0.0182 - acc: 0.9985 - val_loss: 0.5139 - val_acc: 0.8668\n",
            "Epoch 42/100\n",
            "15000/15000 [==============================] - 1s 51us/sample - loss: 0.0175 - acc: 0.9987 - val_loss: 0.5207 - val_acc: 0.8663\n",
            "Epoch 43/100\n",
            "15000/15000 [==============================] - 1s 51us/sample - loss: 0.0171 - acc: 0.9987 - val_loss: 0.5261 - val_acc: 0.8659\n",
            "Epoch 44/100\n",
            "15000/15000 [==============================] - 1s 51us/sample - loss: 0.0163 - acc: 0.9988 - val_loss: 0.5335 - val_acc: 0.8656\n",
            "Epoch 45/100\n",
            "15000/15000 [==============================] - 1s 51us/sample - loss: 0.0157 - acc: 0.9989 - val_loss: 0.5381 - val_acc: 0.8653\n",
            "Epoch 46/100\n",
            "15000/15000 [==============================] - 1s 49us/sample - loss: 0.0151 - acc: 0.9990 - val_loss: 0.5425 - val_acc: 0.8651\n",
            "Epoch 47/100\n",
            "15000/15000 [==============================] - 1s 49us/sample - loss: 0.0146 - acc: 0.9991 - val_loss: 0.5479 - val_acc: 0.8656\n",
            "Epoch 48/100\n",
            "15000/15000 [==============================] - 1s 50us/sample - loss: 0.0140 - acc: 0.9992 - val_loss: 0.5519 - val_acc: 0.8648\n",
            "Epoch 49/100\n",
            "15000/15000 [==============================] - 1s 50us/sample - loss: 0.0134 - acc: 0.9993 - val_loss: 0.5587 - val_acc: 0.8642\n",
            "Epoch 50/100\n",
            "15000/15000 [==============================] - 1s 50us/sample - loss: 0.0130 - acc: 0.9995 - val_loss: 0.5622 - val_acc: 0.8647\n",
            "Epoch 51/100\n",
            "15000/15000 [==============================] - 1s 50us/sample - loss: 0.0125 - acc: 0.9995 - val_loss: 0.5684 - val_acc: 0.8646\n",
            "Epoch 52/100\n",
            "15000/15000 [==============================] - 1s 50us/sample - loss: 0.0120 - acc: 0.9995 - val_loss: 0.5732 - val_acc: 0.8646\n",
            "Epoch 53/100\n",
            "15000/15000 [==============================] - 1s 50us/sample - loss: 0.0116 - acc: 0.9995 - val_loss: 0.5766 - val_acc: 0.8648\n",
            "Epoch 54/100\n",
            "15000/15000 [==============================] - 1s 49us/sample - loss: 0.0112 - acc: 0.9995 - val_loss: 0.5839 - val_acc: 0.8642\n",
            "Epoch 55/100\n",
            "15000/15000 [==============================] - 1s 51us/sample - loss: 0.0110 - acc: 0.9995 - val_loss: 0.5878 - val_acc: 0.8645\n",
            "Epoch 56/100\n",
            "15000/15000 [==============================] - 1s 51us/sample - loss: 0.0104 - acc: 0.9995 - val_loss: 0.5935 - val_acc: 0.8634\n",
            "Epoch 57/100\n",
            "15000/15000 [==============================] - 1s 54us/sample - loss: 0.0101 - acc: 0.9995 - val_loss: 0.5996 - val_acc: 0.8631\n",
            "Epoch 58/100\n",
            "15000/15000 [==============================] - 1s 55us/sample - loss: 0.0098 - acc: 0.9997 - val_loss: 0.6028 - val_acc: 0.8640\n",
            "Epoch 59/100\n",
            "15000/15000 [==============================] - 1s 55us/sample - loss: 0.0094 - acc: 0.9997 - val_loss: 0.6069 - val_acc: 0.8633\n",
            "Epoch 60/100\n",
            "15000/15000 [==============================] - 1s 55us/sample - loss: 0.0091 - acc: 0.9997 - val_loss: 0.6123 - val_acc: 0.8629\n",
            "Epoch 61/100\n",
            "15000/15000 [==============================] - 1s 56us/sample - loss: 0.0088 - acc: 0.9997 - val_loss: 0.6170 - val_acc: 0.8625\n",
            "Epoch 62/100\n",
            "15000/15000 [==============================] - 1s 55us/sample - loss: 0.0085 - acc: 0.9997 - val_loss: 0.6231 - val_acc: 0.8625\n",
            "Epoch 63/100\n",
            "15000/15000 [==============================] - 1s 56us/sample - loss: 0.0082 - acc: 0.9997 - val_loss: 0.6260 - val_acc: 0.8627\n",
            "Epoch 64/100\n",
            "15000/15000 [==============================] - 1s 51us/sample - loss: 0.0080 - acc: 0.9997 - val_loss: 0.6314 - val_acc: 0.8625\n",
            "Epoch 65/100\n",
            "15000/15000 [==============================] - 1s 51us/sample - loss: 0.0077 - acc: 0.9997 - val_loss: 0.6358 - val_acc: 0.8618\n",
            "Epoch 66/100\n",
            "15000/15000 [==============================] - 1s 51us/sample - loss: 0.0075 - acc: 0.9997 - val_loss: 0.6395 - val_acc: 0.8616\n",
            "Epoch 67/100\n",
            "15000/15000 [==============================] - 1s 51us/sample - loss: 0.0072 - acc: 0.9997 - val_loss: 0.6457 - val_acc: 0.8618\n",
            "Epoch 68/100\n",
            "15000/15000 [==============================] - 1s 52us/sample - loss: 0.0070 - acc: 0.9997 - val_loss: 0.6492 - val_acc: 0.8616\n",
            "Epoch 69/100\n",
            "15000/15000 [==============================] - 1s 51us/sample - loss: 0.0067 - acc: 0.9997 - val_loss: 0.6549 - val_acc: 0.8615\n",
            "Epoch 70/100\n",
            "15000/15000 [==============================] - 1s 51us/sample - loss: 0.0065 - acc: 0.9997 - val_loss: 0.6585 - val_acc: 0.8609\n",
            "Epoch 71/100\n",
            "15000/15000 [==============================] - 1s 51us/sample - loss: 0.0063 - acc: 0.9997 - val_loss: 0.6613 - val_acc: 0.8609\n",
            "Epoch 72/100\n",
            "15000/15000 [==============================] - 1s 51us/sample - loss: 0.0061 - acc: 0.9997 - val_loss: 0.6675 - val_acc: 0.8615\n",
            "Epoch 73/100\n",
            "15000/15000 [==============================] - 1s 51us/sample - loss: 0.0059 - acc: 0.9997 - val_loss: 0.6715 - val_acc: 0.8607\n",
            "Epoch 74/100\n",
            "15000/15000 [==============================] - 1s 51us/sample - loss: 0.0058 - acc: 0.9998 - val_loss: 0.6753 - val_acc: 0.8605\n",
            "Epoch 75/100\n",
            "15000/15000 [==============================] - 1s 50us/sample - loss: 0.0056 - acc: 0.9997 - val_loss: 0.6797 - val_acc: 0.8614\n",
            "Epoch 76/100\n",
            "15000/15000 [==============================] - 1s 51us/sample - loss: 0.0054 - acc: 0.9997 - val_loss: 0.6830 - val_acc: 0.8610\n",
            "Epoch 77/100\n",
            "15000/15000 [==============================] - 1s 52us/sample - loss: 0.0052 - acc: 0.9998 - val_loss: 0.6878 - val_acc: 0.8606\n",
            "Epoch 78/100\n",
            "15000/15000 [==============================] - 1s 51us/sample - loss: 0.0049 - acc: 0.9997 - val_loss: 0.6932 - val_acc: 0.8603\n",
            "Epoch 79/100\n",
            "15000/15000 [==============================] - 1s 52us/sample - loss: 0.0046 - acc: 0.9998 - val_loss: 0.6970 - val_acc: 0.8603\n",
            "Epoch 80/100\n",
            "15000/15000 [==============================] - 1s 52us/sample - loss: 0.0045 - acc: 0.9999 - val_loss: 0.6992 - val_acc: 0.8598\n",
            "Epoch 81/100\n",
            "15000/15000 [==============================] - 1s 51us/sample - loss: 0.0042 - acc: 0.9999 - val_loss: 0.7058 - val_acc: 0.8601\n",
            "Epoch 82/100\n",
            "15000/15000 [==============================] - 1s 51us/sample - loss: 0.0042 - acc: 0.9999 - val_loss: 0.7091 - val_acc: 0.8601\n",
            "Epoch 83/100\n",
            "15000/15000 [==============================] - 1s 51us/sample - loss: 0.0040 - acc: 0.9999 - val_loss: 0.7148 - val_acc: 0.8614\n",
            "Epoch 84/100\n",
            "15000/15000 [==============================] - 1s 52us/sample - loss: 0.0039 - acc: 0.9999 - val_loss: 0.7182 - val_acc: 0.8605\n",
            "Epoch 85/100\n",
            "15000/15000 [==============================] - 1s 51us/sample - loss: 0.0037 - acc: 0.9999 - val_loss: 0.7233 - val_acc: 0.8613\n",
            "Epoch 86/100\n",
            "15000/15000 [==============================] - 1s 51us/sample - loss: 0.0037 - acc: 0.9999 - val_loss: 0.7257 - val_acc: 0.8595\n",
            "Epoch 87/100\n",
            "15000/15000 [==============================] - 1s 51us/sample - loss: 0.0035 - acc: 0.9999 - val_loss: 0.7296 - val_acc: 0.8599\n",
            "Epoch 88/100\n",
            "15000/15000 [==============================] - 1s 52us/sample - loss: 0.0034 - acc: 0.9999 - val_loss: 0.7340 - val_acc: 0.8599\n",
            "Epoch 89/100\n",
            "15000/15000 [==============================] - 1s 51us/sample - loss: 0.0033 - acc: 0.9999 - val_loss: 0.7375 - val_acc: 0.8607\n",
            "Epoch 90/100\n",
            "15000/15000 [==============================] - 1s 51us/sample - loss: 0.0032 - acc: 0.9999 - val_loss: 0.7416 - val_acc: 0.8610\n",
            "Epoch 91/100\n",
            "15000/15000 [==============================] - 1s 51us/sample - loss: 0.0031 - acc: 0.9999 - val_loss: 0.7453 - val_acc: 0.8599\n",
            "Epoch 92/100\n",
            "15000/15000 [==============================] - 1s 51us/sample - loss: 0.0030 - acc: 0.9999 - val_loss: 0.7488 - val_acc: 0.8598\n",
            "Epoch 93/100\n",
            "15000/15000 [==============================] - 1s 51us/sample - loss: 0.0029 - acc: 0.9999 - val_loss: 0.7517 - val_acc: 0.8594\n",
            "Epoch 94/100\n",
            "15000/15000 [==============================] - 1s 52us/sample - loss: 0.0028 - acc: 0.9999 - val_loss: 0.7556 - val_acc: 0.8593\n",
            "Epoch 95/100\n",
            "15000/15000 [==============================] - 1s 52us/sample - loss: 0.0028 - acc: 0.9999 - val_loss: 0.7611 - val_acc: 0.8606\n",
            "Epoch 96/100\n",
            "15000/15000 [==============================] - 1s 51us/sample - loss: 0.0027 - acc: 0.9999 - val_loss: 0.7641 - val_acc: 0.8595\n",
            "Epoch 97/100\n",
            "15000/15000 [==============================] - 1s 51us/sample - loss: 0.0026 - acc: 0.9999 - val_loss: 0.7682 - val_acc: 0.8597\n",
            "Epoch 98/100\n",
            "15000/15000 [==============================] - 1s 51us/sample - loss: 0.0025 - acc: 0.9999 - val_loss: 0.7703 - val_acc: 0.8596\n",
            "Epoch 99/100\n",
            "15000/15000 [==============================] - 1s 51us/sample - loss: 0.0024 - acc: 0.9999 - val_loss: 0.7746 - val_acc: 0.8602\n",
            "Epoch 100/100\n",
            "15000/15000 [==============================] - 1s 51us/sample - loss: 0.0024 - acc: 0.9999 - val_loss: 0.7786 - val_acc: 0.8598\n"
          ],
          "name": "stdout"
        }
      ]
    },
    {
      "metadata": {
        "id": "v4ldD3NkPL1O",
        "colab_type": "code",
        "colab": {
          "base_uri": "https://localhost:8080/",
          "height": 52
        },
        "outputId": "18b862df-9d64-47c1-fc11-769acbaed601"
      },
      "cell_type": "code",
      "source": [
        "results = model.evaluate(test_data, test_labels)\n",
        "\n",
        "print(results)"
      ],
      "execution_count": 13,
      "outputs": [
        {
          "output_type": "stream",
          "text": [
            "25000/25000 [==============================] - 1s 39us/sample - loss: 0.8351 - acc: 0.8464\n",
            "[0.8350880318760872, 0.8464]\n"
          ],
          "name": "stdout"
        }
      ]
    },
    {
      "metadata": {
        "id": "0BR31BOnPWh5",
        "colab_type": "code",
        "colab": {
          "base_uri": "https://localhost:8080/",
          "height": 34
        },
        "outputId": "77b0d1da-d33c-4d38-f5b8-9b0a83d52710"
      },
      "cell_type": "code",
      "source": [
        "history_dict = history.history\n",
        "history_dict.keys()"
      ],
      "execution_count": 14,
      "outputs": [
        {
          "output_type": "execute_result",
          "data": {
            "text/plain": [
              "dict_keys(['loss', 'acc', 'val_loss', 'val_acc'])"
            ]
          },
          "metadata": {
            "tags": []
          },
          "execution_count": 14
        }
      ]
    },
    {
      "metadata": {
        "id": "DYPJLeFmPdDL",
        "colab_type": "code",
        "colab": {
          "base_uri": "https://localhost:8080/",
          "height": 295
        },
        "outputId": "f07223f4-73e3-4f35-86dc-9ebec4ebcbb7"
      },
      "cell_type": "code",
      "source": [
        "import matplotlib.pyplot as plt\n",
        "\n",
        "acc = history_dict['acc']\n",
        "val_acc = history_dict['val_acc']\n",
        "loss = history_dict['loss']\n",
        "val_loss = history_dict['val_loss']\n",
        "\n",
        "epochs = range(1, len(acc) + 1)\n",
        "\n",
        "plt.plot(epochs, loss, 'bo', label='Training loss')\n",
        "plt.plot(epochs, val_loss, 'b', label='Validation loss')\n",
        "plt.title('Training and validation loss')\n",
        "plt.xlabel('Epochs')\n",
        "plt.ylabel('Loss')\n",
        "plt.legend()\n",
        "\n",
        "plt.show()"
      ],
      "execution_count": 15,
      "outputs": [
        {
          "output_type": "display_data",
          "data": {
            "image/png": "[encoded data removed]",
            "text/plain": [
              "<Figure size 432x288 with 1 Axes>"
            ]
          },
          "metadata": {
            "tags": []
          }
        }
      ]
    },
    {
      "metadata": {
        "id": "wmXU6kT9Ptgc",
        "colab_type": "code",
        "colab": {
          "base_uri": "https://localhost:8080/",
          "height": 295
        },
        "outputId": "89d456e6-211f-4d93-bceb-0ecf6697c92f"
      },
      "cell_type": "code",
      "source": [
        "plt.clf()   # clear figure\n",
        "\n",
        "plt.plot(epochs, acc, 'bo', label='Training acc')\n",
        "plt.plot(epochs, val_acc, 'b', label='Validation acc')\n",
        "plt.title('Training and validation accuracy')\n",
        "plt.xlabel('Epochs')\n",
        "plt.ylabel('Accuracy')\n",
        "plt.legend()\n",
        "\n",
        "plt.show()"
      ],
      "execution_count": 16,
      "outputs": [
        {
          "output_type": "display_data",
          "data": {
            "image/png": "[encoded data removed]",
            "text/plain": [
              "<Figure size 432x288 with 1 Axes>"
            ]
          },
          "metadata": {
            "tags": []
          }
        }
      ]
    }
  ]
}